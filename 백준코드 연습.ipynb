{
 "cells": [
  {
   "cell_type": "markdown",
   "id": "2fca3236",
   "metadata": {},
   "source": [
    "#### 1712 손익분기점\n",
    "\n",
    "https://www.acmicpc.net/problem/1712"
   ]
  },
  {
   "cell_type": "code",
   "execution_count": 3,
   "id": "7be235ec",
   "metadata": {},
   "outputs": [
    {
     "name": "stdout",
     "output_type": "stream",
     "text": [
      "please input fix cost: 3\n",
      "please input variable cost: 2\n",
      "please input unit price: 1\n",
      "-1\n"
     ]
    }
   ],
   "source": [
    "\n",
    "a=int(input('please input fix cost: '))\n",
    "b=int(input('please input variable cost: '))\n",
    "c=int(input('please input unit price: '))\n",
    "\n",
    "q = a/(c-b)\n",
    "\n",
    "if q>=0:\n",
    "    print(q)\n",
    "else:\n",
    "    print(-1)\n"
   ]
  },
  {
   "cell_type": "markdown",
   "id": "da2a197f",
   "metadata": {},
   "source": [
    "map (함수, 순환할 데이터)"
   ]
  },
  {
   "cell_type": "code",
   "execution_count": null,
   "id": "4593dca4",
   "metadata": {},
   "outputs": [],
   "source": [
    "a,b,c = map(int,input().split())"
   ]
  },
  {
   "cell_type": "code",
   "execution_count": 20,
   "id": "c6406aa1",
   "metadata": {},
   "outputs": [
    {
     "name": "stdout",
     "output_type": "stream",
     "text": [
      "1000 70 10\n",
      "-1\n"
     ]
    }
   ],
   "source": [
    "a,b,c = map(int,input().split())\n",
    "\n",
    "q = a/(c-b)\n",
    "\n",
    "if q>=0:\n",
    "    print(q)\n",
    "else:\n",
    "    print(-1)\n"
   ]
  }
 ],
 "metadata": {
  "kernelspec": {
   "display_name": "Python 3 (ipykernel)",
   "language": "python",
   "name": "python3"
  },
  "language_info": {
   "codemirror_mode": {
    "name": "ipython",
    "version": 3
   },
   "file_extension": ".py",
   "mimetype": "text/x-python",
   "name": "python",
   "nbconvert_exporter": "python",
   "pygments_lexer": "ipython3",
   "version": "3.9.7"
  }
 },
 "nbformat": 4,
 "nbformat_minor": 5
}
